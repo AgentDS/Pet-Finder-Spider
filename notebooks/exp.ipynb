{
 "cells": [
  {
   "cell_type": "code",
   "execution_count": 5,
   "id": "e90b1dcc",
   "metadata": {},
   "outputs": [],
   "source": [
    "import sys, os\n",
    "sys.path.append(os.path.abspath(\"../src\"))  # adjust relative to the notebook\n",
    "\n",
    "%load_ext autoreload\n",
    "%autoreload 2\n",
    "\n",
    "import petfinder_spider as spider\n",
    "import petfinder_spider.utils.paths as spider_paths\n",
    "import petfinder_spider.query_search.api as spider_api"
   ]
  },
  {
   "cell_type": "code",
   "execution_count": 2,
   "id": "1d3c493d",
   "metadata": {},
   "outputs": [
    {
     "data": {
      "text/plain": [
       "PosixPath('/Users/liangsiqi/Documents/GitHub/Pet-Finder-Spider/data/cache/local_cache')"
      ]
     },
     "execution_count": 2,
     "metadata": {},
     "output_type": "execute_result"
    }
   ],
   "source": [
    "spider_paths.cache_path('local_cache')"
   ]
  },
  {
   "cell_type": "code",
   "execution_count": null,
   "id": "7370f4b8",
   "metadata": {},
   "outputs": [],
   "source": [
    "breed = 'Siamese'\n",
    "age = 'Baby'\n",
    "location = ['mi/troy', 'mi/ann-arbor', 'mi/lansing', 'mi/detroit']\n",
    "distance = [50, 100, 150, 200, 'Anywhere']  # ! notice that the distance keyword can be arbitary 10*i interger numbers\n",
    "# BASIC_URL = \"https://www.petfinder.com/search/cats-for-adoption/us/{localtion}/?age%5B0%5D={age}&breed%5B0%5D={breed}&distance={distance}\"\n",
    "\n"
   ]
  },
  {
   "cell_type": "code",
   "execution_count": 7,
   "id": "35866237",
   "metadata": {},
   "outputs": [
    {
     "name": "stdout",
     "output_type": "stream",
     "text": [
      "Query requirement: Breed=Siamese \t Age=Baby \t Location=mi/ann-arbor (100 km around)\n",
      "Query URL: https://www.petfinder.com/search/cats-for-adoption/us/mi/ann-arbor/?age%5B0%5D=Baby&breed%5B0%5D=Siamese&distance=100\n"
     ]
    },
    {
     "data": {
      "text/plain": [
       "'https://www.petfinder.com/search/cats-for-adoption/us/mi/ann-arbor/?age%5B0%5D=Baby&breed%5B0%5D=Siamese&distance=100'"
      ]
     },
     "execution_count": 7,
     "metadata": {},
     "output_type": "execute_result"
    }
   ],
   "source": [
    "spider_api.kitten_query_url()"
   ]
  },
  {
   "cell_type": "code",
   "execution_count": null,
   "id": "19d4185a",
   "metadata": {},
   "outputs": [],
   "source": []
  }
 ],
 "metadata": {
  "kernelspec": {
   "display_name": "pyspider",
   "language": "python",
   "name": "python3"
  },
  "language_info": {
   "codemirror_mode": {
    "name": "ipython",
    "version": 3
   },
   "file_extension": ".py",
   "mimetype": "text/x-python",
   "name": "python",
   "nbconvert_exporter": "python",
   "pygments_lexer": "ipython3",
   "version": "3.8.20"
  }
 },
 "nbformat": 4,
 "nbformat_minor": 5
}
