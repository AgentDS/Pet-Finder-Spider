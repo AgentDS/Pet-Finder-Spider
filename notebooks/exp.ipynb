{
 "cells": [
  {
   "cell_type": "code",
   "execution_count": null,
   "id": "e90b1dcc",
   "metadata": {},
   "outputs": [],
   "source": [
    "import pet"
   ]
  }
 ],
 "metadata": {
  "kernelspec": {
   "display_name": "pyspider",
   "language": "python",
   "name": "python3"
  },
  "language_info": {
   "name": "python",
   "version": "3.8.16"
  }
 },
 "nbformat": 4,
 "nbformat_minor": 5
}
