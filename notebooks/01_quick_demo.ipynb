{
 "cells": [
  {
   "cell_type": "markdown",
   "id": "e079615d",
   "metadata": {},
   "source": [
    "\n",
    "# 01 — Quick demo using `petfinder_spider`\n",
    "\n",
    "This notebook assumes you've run the **00_setup_imports** notebook first (or otherwise ensured `import petfinder_spider` works).\n"
   ]
  },
  {
   "cell_type": "code",
   "execution_count": null,
   "id": "631b7268",
   "metadata": {},
   "outputs": [],
   "source": [
    "# (Re)run the same bootstrap here for standalone execution\n",
    "import sys\n",
    "from pathlib import Path\n",
    "\n",
    "def find_repo_root(start: Path = None):\n",
    "    start = start or Path.cwd()\n",
    "    markers = {'.git', 'pyproject.toml', 'setup.cfg'}\n",
    "    p = start.resolve()\n",
    "    for _ in range(10):\n",
    "        if any((p / m).exists() for m in markers):\n",
    "            return p\n",
    "        if p.parent == p:\n",
    "            break\n",
    "        p = p.parent\n",
    "    return start.resolve()\n",
    "\n",
    "REPO_ROOT = find_repo_root()\n",
    "SRC_DIR = REPO_ROOT / \"src\"\n",
    "if str(SRC_DIR) not in sys.path and SRC_DIR.exists():\n",
    "    sys.path.insert(0, str(SRC_DIR))\n",
    "\n",
    "import petfinder_spider as spider\n",
    "print(\"petfinder_spider imported from:\", getattr(spider, \"__file__\", \"(namespace)\"))\n"
   ]
  },
  {
   "cell_type": "code",
   "execution_count": null,
   "id": "af60c230",
   "metadata": {},
   "outputs": [],
   "source": [
    "\n",
    "# Explore submodules (if your __init__.py exposes them)\n",
    "import importlib, pkgutil, inspect\n",
    "\n",
    "# List top-level modules under petfinder_spider\n",
    "package_path = Path(spider.__file__).parent if hasattr(spider, \"__file__\") else None\n",
    "print(\"Package path:\", package_path)\n",
    "\n",
    "# Try to import known subpackages if they exist in your repo\n",
    "candidates = [\"utils\", \"query_search\", \"page_process\", \"merge\", \"data\"]\n",
    "available = []\n",
    "for name in candidates:\n",
    "    try:\n",
    "        mod = importlib.import_module(f\"petfinder_spider.{name}\")\n",
    "        available.append((name, mod))\n",
    "    except Exception as e:\n",
    "        pass\n",
    "\n",
    "print(\"Found subpackages:\", [n for n,_ in available])\n"
   ]
  },
  {
   "cell_type": "code",
   "execution_count": null,
   "id": "d61dce08",
   "metadata": {},
   "outputs": [],
   "source": [
    "\n",
    "# Example: use a utility like paths.CACHE_DIR if present\n",
    "try:\n",
    "    from petfinder_spider.utils import paths\n",
    "    print(\"CACHE_DIR:\", paths.CACHE_DIR)\n",
    "    if hasattr(paths, \"cache_path\"):\n",
    "        print(\"Example cache path:\", paths.cache_path(\"example_cache.sqlite\"))\n",
    "except Exception as e:\n",
    "    print(\"No utils.paths found or import failed:\", e)\n"
   ]
  },
  {
   "cell_type": "code",
   "execution_count": null,
   "id": "cb2e32dc",
   "metadata": {},
   "outputs": [],
   "source": [
    "\n",
    "# If you have a public API function, call it here.\n",
    "# For example, if you defined spider.search or spider.fetch:\n",
    "#\n",
    "# results = spider.search(\"siamese kittens near Cleveland\")\n",
    "# print(results[:3])\n",
    "#\n",
    "# Since I don't know your exact API, the cell is a placeholder.\n",
    "print(\"Ready to call your package API here.\")\n"
   ]
  }
 ],
 "metadata": {
  "language_info": {
   "name": "python"
  }
 },
 "nbformat": 4,
 "nbformat_minor": 5
}
